{
  "nbformat": 4,
  "nbformat_minor": 0,
  "metadata": {
    "colab": {
      "provenance": [],
      "gpuType": "T4",
      "authorship_tag": "ABX9TyPFCBDo3DmczMZLihDK7PFf",
      "include_colab_link": true
    },
    "kernelspec": {
      "name": "python3",
      "display_name": "Python 3"
    },
    "language_info": {
      "name": "python"
    },
    "accelerator": "GPU"
  },
  "cells": [
    {
      "cell_type": "markdown",
      "metadata": {
        "id": "view-in-github",
        "colab_type": "text"
      },
      "source": [
        "<a href=\"https://colab.research.google.com/github/LorenzoCorbinelli/MLSA-project/blob/main/Inference.ipynb\" target=\"_parent\"><img src=\"https://colab.research.google.com/assets/colab-badge.svg\" alt=\"Open In Colab\"/></a>"
      ]
    },
    {
      "cell_type": "code",
      "source": [
        "!pip install transformers gdown"
      ],
      "metadata": {
        "id": "q4ZhivQa5ZEn",
        "outputId": "133143a1-5260-4bd4-b5a2-bc14a7121aa8",
        "colab": {
          "base_uri": "https://localhost:8080/"
        }
      },
      "execution_count": 5,
      "outputs": [
        {
          "output_type": "stream",
          "name": "stdout",
          "text": [
            "Requirement already satisfied: transformers in /usr/local/lib/python3.11/dist-packages (4.48.2)\n",
            "Requirement already satisfied: gdown in /usr/local/lib/python3.11/dist-packages (5.2.0)\n",
            "Requirement already satisfied: filelock in /usr/local/lib/python3.11/dist-packages (from transformers) (3.17.0)\n",
            "Requirement already satisfied: huggingface-hub<1.0,>=0.24.0 in /usr/local/lib/python3.11/dist-packages (from transformers) (0.28.1)\n",
            "Requirement already satisfied: numpy>=1.17 in /usr/local/lib/python3.11/dist-packages (from transformers) (1.26.4)\n",
            "Requirement already satisfied: packaging>=20.0 in /usr/local/lib/python3.11/dist-packages (from transformers) (24.2)\n",
            "Requirement already satisfied: pyyaml>=5.1 in /usr/local/lib/python3.11/dist-packages (from transformers) (6.0.2)\n",
            "Requirement already satisfied: regex!=2019.12.17 in /usr/local/lib/python3.11/dist-packages (from transformers) (2024.11.6)\n",
            "Requirement already satisfied: requests in /usr/local/lib/python3.11/dist-packages (from transformers) (2.32.3)\n",
            "Requirement already satisfied: tokenizers<0.22,>=0.21 in /usr/local/lib/python3.11/dist-packages (from transformers) (0.21.0)\n",
            "Requirement already satisfied: safetensors>=0.4.1 in /usr/local/lib/python3.11/dist-packages (from transformers) (0.5.2)\n",
            "Requirement already satisfied: tqdm>=4.27 in /usr/local/lib/python3.11/dist-packages (from transformers) (4.67.1)\n",
            "Requirement already satisfied: beautifulsoup4 in /usr/local/lib/python3.11/dist-packages (from gdown) (4.13.3)\n",
            "Requirement already satisfied: fsspec>=2023.5.0 in /usr/local/lib/python3.11/dist-packages (from huggingface-hub<1.0,>=0.24.0->transformers) (2024.10.0)\n",
            "Requirement already satisfied: typing-extensions>=3.7.4.3 in /usr/local/lib/python3.11/dist-packages (from huggingface-hub<1.0,>=0.24.0->transformers) (4.12.2)\n",
            "Requirement already satisfied: soupsieve>1.2 in /usr/local/lib/python3.11/dist-packages (from beautifulsoup4->gdown) (2.6)\n",
            "Requirement already satisfied: charset-normalizer<4,>=2 in /usr/local/lib/python3.11/dist-packages (from requests->transformers) (3.4.1)\n",
            "Requirement already satisfied: idna<4,>=2.5 in /usr/local/lib/python3.11/dist-packages (from requests->transformers) (3.10)\n",
            "Requirement already satisfied: urllib3<3,>=1.21.1 in /usr/local/lib/python3.11/dist-packages (from requests->transformers) (2.3.0)\n",
            "Requirement already satisfied: certifi>=2017.4.17 in /usr/local/lib/python3.11/dist-packages (from requests->transformers) (2025.1.31)\n",
            "Requirement already satisfied: PySocks!=1.5.7,>=1.5.6 in /usr/local/lib/python3.11/dist-packages (from requests[socks]->gdown) (1.7.1)\n"
          ]
        }
      ]
    },
    {
      "cell_type": "code",
      "source": [
        "from transformers import RobertaTokenizer, RobertaForMaskedLM, pipeline"
      ],
      "metadata": {
        "id": "1sfYqVN95MDm"
      },
      "execution_count": 2,
      "outputs": []
    },
    {
      "cell_type": "code",
      "source": [
        "# Import the model\n",
        "!gdown --folder \"https://drive.google.com/drive/folders/1-14DZR-ds0AZgeQqKtzTf5hNyGkNHj-1\""
      ],
      "metadata": {
        "id": "fNFQY96r9TEe",
        "outputId": "76fb4edd-124c-4760-92e2-83811709fffd",
        "colab": {
          "base_uri": "https://localhost:8080/"
        }
      },
      "execution_count": 7,
      "outputs": [
        {
          "output_type": "stream",
          "name": "stdout",
          "text": [
            "Retrieving folder contents\n",
            "Processing file 1-3Gi1RfLXRr23mDMeHQD-zn-KIWhBSUc config.json\n",
            "Processing file 1-8ySYaaguBwz9PKym5KRprAuSxETG4fC merges.txt\n",
            "Processing file 1-5aTG7SM33yj8blDKpEFKA3Xw1ki-N0i model.safetensors\n",
            "Processing file 1-JyQTIxMkpEomU39cGXA6Zubj-p8mdZs special_tokens_map.json\n",
            "Processing file 1-MV-LuW38tPsqWorIAPTGsTTo_RdGx8O tokenizer_config.json\n",
            "Processing file 1-EyCic4FIFKUhS_Glk_nvpMDexILo15i vocab.json\n",
            "Retrieving folder contents completed\n",
            "Building directory structure\n",
            "Building directory structure completed\n",
            "Downloading...\n",
            "From: https://drive.google.com/uc?id=1-3Gi1RfLXRr23mDMeHQD-zn-KIWhBSUc\n",
            "To: /content/Model/config.json\n",
            "100% 710/710 [00:00<00:00, 4.20MB/s]\n",
            "Downloading...\n",
            "From: https://drive.google.com/uc?id=1-8ySYaaguBwz9PKym5KRprAuSxETG4fC\n",
            "To: /content/Model/merges.txt\n",
            "100% 456k/456k [00:00<00:00, 2.86MB/s]\n",
            "Downloading...\n",
            "From (original): https://drive.google.com/uc?id=1-5aTG7SM33yj8blDKpEFKA3Xw1ki-N0i\n",
            "From (redirected): https://drive.google.com/uc?id=1-5aTG7SM33yj8blDKpEFKA3Xw1ki-N0i&confirm=t&uuid=dc11370c-1b6f-4551-9af0-474118fc3176\n",
            "To: /content/Model/model.safetensors\n",
            "100% 499M/499M [00:17<00:00, 28.2MB/s]\n",
            "Downloading...\n",
            "From: https://drive.google.com/uc?id=1-JyQTIxMkpEomU39cGXA6Zubj-p8mdZs\n",
            "To: /content/Model/special_tokens_map.json\n",
            "100% 958/958 [00:00<00:00, 4.70MB/s]\n",
            "Downloading...\n",
            "From: https://drive.google.com/uc?id=1-MV-LuW38tPsqWorIAPTGsTTo_RdGx8O\n",
            "To: /content/Model/tokenizer_config.json\n",
            "100% 1.22k/1.22k [00:00<00:00, 5.71MB/s]\n",
            "Downloading...\n",
            "From: https://drive.google.com/uc?id=1-EyCic4FIFKUhS_Glk_nvpMDexILo15i\n",
            "To: /content/Model/vocab.json\n",
            "100% 999k/999k [00:00<00:00, 4.48MB/s]\n",
            "Download completed\n"
          ]
        }
      ]
    },
    {
      "cell_type": "code",
      "execution_count": 8,
      "metadata": {
        "id": "Q1pevukuK0XD"
      },
      "outputs": [],
      "source": [
        "# load the model\n",
        "directory = '/content/Model'\n",
        "\n",
        "model = RobertaForMaskedLM.from_pretrained(directory)\n",
        "tokenizer = RobertaTokenizer.from_pretrained(directory)"
      ]
    },
    {
      "cell_type": "code",
      "source": [
        "code_example = \"def is_zero(x):\\n return x==<mask>\"\n",
        "fill_mask = pipeline('fill-mask', model=model, tokenizer=tokenizer)\n",
        "\n",
        "outputs = fill_mask(code_example)\n",
        "print(outputs)"
      ],
      "metadata": {
        "id": "COv2CyqdK_HH",
        "outputId": "d7d100c5-7765-4233-8871-12d45a3324b7",
        "colab": {
          "base_uri": "https://localhost:8080/"
        }
      },
      "execution_count": 9,
      "outputs": [
        {
          "output_type": "stream",
          "name": "stderr",
          "text": [
            "Device set to use cuda:0\n"
          ]
        },
        {
          "output_type": "stream",
          "name": "stdout",
          "text": [
            "[{'score': 0.6190049648284912, 'token': 288, 'token_str': '0', 'sequence': 'def is_zero(x):\\n return x==0'}, {'score': 0.2887592911720276, 'token': 321, 'token_str': ' 0', 'sequence': 'def is_zero(x):\\n return x== 0'}, {'score': 0.03588446229696274, 'token': 1178, 'token_str': 'x', 'sequence': 'def is_zero(x):\\n return x==x'}, {'score': 0.012500343844294548, 'token': 18556, 'token_str': 'zero', 'sequence': 'def is_zero(x):\\n return x==zero'}, {'score': 0.0045839035883545876, 'token': 112, 'token_str': ' 1', 'sequence': 'def is_zero(x):\\n return x== 1'}]\n"
          ]
        }
      ]
    },
    {
      "cell_type": "code",
      "source": [
        "code_example = \"def add(a, b):\\n return a+<mask>\"\n",
        "outputs = fill_mask(code_example)\n",
        "print(outputs)"
      ],
      "metadata": {
        "id": "yj-FGV8cLD2K"
      },
      "execution_count": null,
      "outputs": []
    },
    {
      "cell_type": "code",
      "source": [
        "code_example = \"def add(a, b):\\n return a<mask>\"\n",
        "outputs = fill_mask(code_example)\n",
        "print(outputs)"
      ],
      "metadata": {
        "id": "9_ACi3nLLFV_"
      },
      "execution_count": null,
      "outputs": []
    },
    {
      "cell_type": "code",
      "source": [
        "code_example = \"for element <mask>\"\n",
        "outputs = fill_mask(code_example)\n",
        "print(outputs)"
      ],
      "metadata": {
        "id": "AtKbNQi9LGqX"
      },
      "execution_count": null,
      "outputs": []
    }
  ]
}