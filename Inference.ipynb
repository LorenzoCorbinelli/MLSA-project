{
  "nbformat": 4,
  "nbformat_minor": 0,
  "metadata": {
    "colab": {
      "provenance": [],
      "authorship_tag": "ABX9TyMVmQI28UH1S9itrMQd/nbU",
      "include_colab_link": true
    },
    "kernelspec": {
      "name": "python3",
      "display_name": "Python 3"
    },
    "language_info": {
      "name": "python"
    }
  },
  "cells": [
    {
      "cell_type": "markdown",
      "metadata": {
        "id": "view-in-github",
        "colab_type": "text"
      },
      "source": [
        "<a href=\"https://colab.research.google.com/github/LorenzoCorbinelli/MLSA-project/blob/main/Inference.ipynb\" target=\"_parent\"><img src=\"https://colab.research.google.com/assets/colab-badge.svg\" alt=\"Open In Colab\"/></a>"
      ]
    },
    {
      "cell_type": "code",
      "execution_count": null,
      "metadata": {
        "id": "Q1pevukuK0XD"
      },
      "outputs": [],
      "source": [
        "# load the model\n",
        "directory = '/content/drive/MyDrive/Magistrale/Machine learning for software analysis/MLSA/Model'\n",
        "\n",
        "model = RobertaForMaskedLM.from_pretrained(directory)\n",
        "tokenizer = RobertaTokenizer.from_pretrained(directory)"
      ]
    },
    {
      "cell_type": "code",
      "source": [
        "code_example = \"def is_zero(x):\\n return x==<mask>\"\n",
        "fill_mask = pipeline('fill-mask', model=model, tokenizer=tokenizer)\n",
        "\n",
        "outputs = fill_mask(code_example)\n",
        "print(outputs)"
      ],
      "metadata": {
        "id": "COv2CyqdK_HH"
      },
      "execution_count": null,
      "outputs": []
    },
    {
      "cell_type": "code",
      "source": [
        "code_example = \"def add(a, b):\\n return a+<mask>\"\n",
        "outputs = fill_mask(code_example)\n",
        "print(outputs)"
      ],
      "metadata": {
        "id": "yj-FGV8cLD2K"
      },
      "execution_count": null,
      "outputs": []
    },
    {
      "cell_type": "code",
      "source": [
        "code_example = \"def add(a, b):\\n return a<mask>\"\n",
        "outputs = fill_mask(code_example)\n",
        "print(outputs)"
      ],
      "metadata": {
        "id": "9_ACi3nLLFV_"
      },
      "execution_count": null,
      "outputs": []
    },
    {
      "cell_type": "code",
      "source": [
        "code_example = \"for element <mask>\"\n",
        "outputs = fill_mask(code_example)\n",
        "print(outputs)"
      ],
      "metadata": {
        "id": "AtKbNQi9LGqX"
      },
      "execution_count": null,
      "outputs": []
    }
  ]
}