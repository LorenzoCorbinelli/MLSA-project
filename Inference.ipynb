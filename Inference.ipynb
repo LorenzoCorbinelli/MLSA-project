{
  "nbformat": 4,
  "nbformat_minor": 0,
  "metadata": {
    "colab": {
      "provenance": [],
      "gpuType": "T4",
      "include_colab_link": true
    },
    "kernelspec": {
      "name": "python3",
      "display_name": "Python 3"
    },
    "language_info": {
      "name": "python"
    },
    "accelerator": "GPU"
  },
  "cells": [
    {
      "cell_type": "markdown",
      "metadata": {
        "id": "view-in-github",
        "colab_type": "text"
      },
      "source": [
        "<a href=\"https://colab.research.google.com/github/LorenzoCorbinelli/MLSA-project/blob/chunking/Inference.ipynb\" target=\"_parent\"><img src=\"https://colab.research.google.com/assets/colab-badge.svg\" alt=\"Open In Colab\"/></a>"
      ]
    },
    {
      "cell_type": "code",
      "source": [
        "!pip install transformers gdown"
      ],
      "metadata": {
        "id": "q4ZhivQa5ZEn",
        "outputId": "9b0f05ae-10c2-4002-9224-f85d3b32dad8",
        "colab": {
          "base_uri": "https://localhost:8080/"
        }
      },
      "execution_count": 1,
      "outputs": [
        {
          "output_type": "stream",
          "name": "stdout",
          "text": [
            "Requirement already satisfied: transformers in /usr/local/lib/python3.11/dist-packages (4.48.2)\n",
            "Requirement already satisfied: gdown in /usr/local/lib/python3.11/dist-packages (5.2.0)\n",
            "Requirement already satisfied: filelock in /usr/local/lib/python3.11/dist-packages (from transformers) (3.17.0)\n",
            "Requirement already satisfied: huggingface-hub<1.0,>=0.24.0 in /usr/local/lib/python3.11/dist-packages (from transformers) (0.28.1)\n",
            "Requirement already satisfied: numpy>=1.17 in /usr/local/lib/python3.11/dist-packages (from transformers) (1.26.4)\n",
            "Requirement already satisfied: packaging>=20.0 in /usr/local/lib/python3.11/dist-packages (from transformers) (24.2)\n",
            "Requirement already satisfied: pyyaml>=5.1 in /usr/local/lib/python3.11/dist-packages (from transformers) (6.0.2)\n",
            "Requirement already satisfied: regex!=2019.12.17 in /usr/local/lib/python3.11/dist-packages (from transformers) (2024.11.6)\n",
            "Requirement already satisfied: requests in /usr/local/lib/python3.11/dist-packages (from transformers) (2.32.3)\n",
            "Requirement already satisfied: tokenizers<0.22,>=0.21 in /usr/local/lib/python3.11/dist-packages (from transformers) (0.21.0)\n",
            "Requirement already satisfied: safetensors>=0.4.1 in /usr/local/lib/python3.11/dist-packages (from transformers) (0.5.2)\n",
            "Requirement already satisfied: tqdm>=4.27 in /usr/local/lib/python3.11/dist-packages (from transformers) (4.67.1)\n",
            "Requirement already satisfied: beautifulsoup4 in /usr/local/lib/python3.11/dist-packages (from gdown) (4.13.3)\n",
            "Requirement already satisfied: fsspec>=2023.5.0 in /usr/local/lib/python3.11/dist-packages (from huggingface-hub<1.0,>=0.24.0->transformers) (2024.10.0)\n",
            "Requirement already satisfied: typing-extensions>=3.7.4.3 in /usr/local/lib/python3.11/dist-packages (from huggingface-hub<1.0,>=0.24.0->transformers) (4.12.2)\n",
            "Requirement already satisfied: soupsieve>1.2 in /usr/local/lib/python3.11/dist-packages (from beautifulsoup4->gdown) (2.6)\n",
            "Requirement already satisfied: charset-normalizer<4,>=2 in /usr/local/lib/python3.11/dist-packages (from requests->transformers) (3.4.1)\n",
            "Requirement already satisfied: idna<4,>=2.5 in /usr/local/lib/python3.11/dist-packages (from requests->transformers) (3.10)\n",
            "Requirement already satisfied: urllib3<3,>=1.21.1 in /usr/local/lib/python3.11/dist-packages (from requests->transformers) (2.3.0)\n",
            "Requirement already satisfied: certifi>=2017.4.17 in /usr/local/lib/python3.11/dist-packages (from requests->transformers) (2025.1.31)\n",
            "Requirement already satisfied: PySocks!=1.5.7,>=1.5.6 in /usr/local/lib/python3.11/dist-packages (from requests[socks]->gdown) (1.7.1)\n"
          ]
        }
      ]
    },
    {
      "cell_type": "code",
      "source": [
        "from transformers import RobertaTokenizer, RobertaForMaskedLM, pipeline\n",
        "from tabulate import tabulate"
      ],
      "metadata": {
        "id": "1sfYqVN95MDm"
      },
      "execution_count": 2,
      "outputs": []
    },
    {
      "cell_type": "code",
      "source": [
        "# Import the model\n",
        "!gdown --folder \"https://drive.google.com/drive/folders/1IEUpOvOCRqZ4K2jZ6Pno-4PRjILY4gG-\""
      ],
      "metadata": {
        "id": "fNFQY96r9TEe",
        "outputId": "6ca71eda-98bd-45ee-8f13-405d73235066",
        "colab": {
          "base_uri": "https://localhost:8080/"
        }
      },
      "execution_count": 3,
      "outputs": [
        {
          "output_type": "stream",
          "name": "stdout",
          "text": [
            "Retrieving folder contents\n",
            "Processing file 1-0o3vpRYnWkdVGz_yNbD6TPbouXbVL0i config.json\n",
            "Processing file 1-S1kHvKRVrybO-p1KmxIGmmEDz2iRdFE merges.txt\n",
            "Processing file 1-FHF6YJ4x9Ir5o9VkzBuAWF90aExxnya model.safetensors\n",
            "Processing file 1-_c6wIWoHhh7VnKGJPMvvczMe_MHjdvD special_tokens_map.json\n",
            "Processing file 1-fN2SOSknjnOE1LJVRXjXkJS-ukYN02u tokenizer_config.json\n",
            "Processing file 1-VgXOp8EM6Bca4Gfev5YC7g2ftsdpeox vocab.json\n",
            "Retrieving folder contents completed\n",
            "Building directory structure\n",
            "Building directory structure completed\n",
            "Downloading...\n",
            "From: https://drive.google.com/uc?id=1-0o3vpRYnWkdVGz_yNbD6TPbouXbVL0i\n",
            "To: /content/MLSAModelChuncked/config.json\n",
            "100% 710/710 [00:00<00:00, 3.24MB/s]\n",
            "Downloading...\n",
            "From: https://drive.google.com/uc?id=1-S1kHvKRVrybO-p1KmxIGmmEDz2iRdFE\n",
            "To: /content/MLSAModelChuncked/merges.txt\n",
            "100% 456k/456k [00:00<00:00, 23.9MB/s]\n",
            "Downloading...\n",
            "From (original): https://drive.google.com/uc?id=1-FHF6YJ4x9Ir5o9VkzBuAWF90aExxnya\n",
            "From (redirected): https://drive.google.com/uc?id=1-FHF6YJ4x9Ir5o9VkzBuAWF90aExxnya&confirm=t&uuid=f1d16a22-a3ad-4460-be37-4fa51664bf30\n",
            "To: /content/MLSAModelChuncked/model.safetensors\n",
            "100% 499M/499M [00:03<00:00, 166MB/s]\n",
            "Downloading...\n",
            "From: https://drive.google.com/uc?id=1-_c6wIWoHhh7VnKGJPMvvczMe_MHjdvD\n",
            "To: /content/MLSAModelChuncked/special_tokens_map.json\n",
            "100% 958/958 [00:00<00:00, 4.37MB/s]\n",
            "Downloading...\n",
            "From: https://drive.google.com/uc?id=1-fN2SOSknjnOE1LJVRXjXkJS-ukYN02u\n",
            "To: /content/MLSAModelChuncked/tokenizer_config.json\n",
            "100% 1.22k/1.22k [00:00<00:00, 7.37MB/s]\n",
            "Downloading...\n",
            "From: https://drive.google.com/uc?id=1-VgXOp8EM6Bca4Gfev5YC7g2ftsdpeox\n",
            "To: /content/MLSAModelChuncked/vocab.json\n",
            "100% 999k/999k [00:00<00:00, 157MB/s]\n",
            "Download completed\n"
          ]
        }
      ]
    },
    {
      "cell_type": "code",
      "execution_count": 5,
      "metadata": {
        "id": "Q1pevukuK0XD"
      },
      "outputs": [],
      "source": [
        "# load the model\n",
        "directory = '/content/MLSAModelChuncked'\n",
        "\n",
        "model = RobertaForMaskedLM.from_pretrained(directory)\n",
        "tokenizer = RobertaTokenizer.from_pretrained(directory)"
      ]
    },
    {
      "cell_type": "code",
      "source": [
        "def print_result(outputs):\n",
        "    table_data = []\n",
        "    for output in outputs:\n",
        "        token_str = f'\"{output[\"token_str\"]}\"'  # Preserve leading spaces by wrapping in quotes\n",
        "        table_data.append([output['sequence'], token_str, output['score']])\n",
        "\n",
        "    print(\"The suggested code completions are:\")\n",
        "    print(tabulate(table_data, headers=[\"Completion\", \"Predicted token\", \"Score\"], tablefmt=\"grid\", colalign=(\"left\", \"left\", \"center\")) )"
      ],
      "metadata": {
        "id": "95UdnsUtXIUH"
      },
      "execution_count": 6,
      "outputs": []
    },
    {
      "cell_type": "code",
      "source": [
        "def code_completion(code_example, iterations: int = 1):\n",
        "    '''\n",
        "    - code_example: snipped of code that need to be code-completed. No token <mask> needed.\n",
        "    - iterations: number of subsequent code completions to be generated.\n",
        "                  Each sequence generated after the first one will be based only on the previous sequence with the highest score.\n",
        "    '''\n",
        "    code_example = code_example + \"<mask>\"\n",
        "    fill_mask = pipeline('fill-mask', model=model, tokenizer=tokenizer)\n",
        "    current_example = code_example  # Start with the initial code\n",
        "\n",
        "    for _ in range(iterations):\n",
        "        outputs = fill_mask(current_example)\n",
        "\n",
        "        # Take the first prediction and append <mask> to continue completion\n",
        "        best_prediction = outputs[0][\"sequence\"]\n",
        "        current_example = best_prediction + \" <mask>\"\n",
        "        print_result(outputs)\n",
        "    return outputs"
      ],
      "metadata": {
        "id": "SyVs7pkpA2MU"
      },
      "execution_count": 7,
      "outputs": []
    },
    {
      "cell_type": "code",
      "source": [
        "result = code_completion(\"def is_zero(x): return x==\")"
      ],
      "metadata": {
        "id": "COv2CyqdK_HH",
        "outputId": "e1b316a3-1f49-42c4-e807-6bbfaad96aab",
        "colab": {
          "base_uri": "https://localhost:8080/"
        }
      },
      "execution_count": 8,
      "outputs": [
        {
          "output_type": "stream",
          "name": "stderr",
          "text": [
            "Device set to use cuda:0\n"
          ]
        },
        {
          "output_type": "stream",
          "name": "stdout",
          "text": [
            "The suggested code completions are:\n",
            "+------------------------------+-------------------+------------+\n",
            "| Completion                   | Predicted token   |   Score    |\n",
            "+==============================+===================+============+\n",
            "| def is_zero(x): return x==0  | \"0\"               |  0.785537  |\n",
            "+------------------------------+-------------------+------------+\n",
            "| def is_zero(x): return x== 0 | \" 0\"              |  0.146028  |\n",
            "+------------------------------+-------------------+------------+\n",
            "| def is_zero(x): return x==x  | \"x\"               | 0.0211529  |\n",
            "+------------------------------+-------------------+------------+\n",
            "| def is_zero(x): return x==1  | \"1\"               | 0.00693374 |\n",
            "+------------------------------+-------------------+------------+\n",
            "| def is_zero(x): return x==y  | \"y\"               | 0.00623837 |\n",
            "+------------------------------+-------------------+------------+\n"
          ]
        }
      ]
    },
    {
      "cell_type": "code",
      "source": [
        "result = code_completion(\"def add(a, b): return a+\")"
      ],
      "metadata": {
        "id": "yj-FGV8cLD2K",
        "outputId": "f5830e33-cacb-4bd0-853a-c97de54ad224",
        "colab": {
          "base_uri": "https://localhost:8080/"
        }
      },
      "execution_count": 9,
      "outputs": [
        {
          "output_type": "stream",
          "name": "stderr",
          "text": [
            "Device set to use cuda:0\n"
          ]
        },
        {
          "output_type": "stream",
          "name": "stdout",
          "text": [
            "The suggested code completions are:\n",
            "+----------------------------+-------------------+------------+\n",
            "| Completion                 | Predicted token   |   Score    |\n",
            "+============================+===================+============+\n",
            "| def add(a, b): return a+b  | \"b\"               |  0.964586  |\n",
            "+----------------------------+-------------------+------------+\n",
            "| def add(a, b): return a+a  | \"a\"               | 0.00870553 |\n",
            "+----------------------------+-------------------+------------+\n",
            "| def add(a, b): return a+1  | \"1\"               | 0.00741238 |\n",
            "+----------------------------+-------------------+------------+\n",
            "| def add(a, b): return a+ b | \" b\"              | 0.00374771 |\n",
            "+----------------------------+-------------------+------------+\n",
            "| def add(a, b): return a+B  | \"B\"               | 0.00360095 |\n",
            "+----------------------------+-------------------+------------+\n"
          ]
        }
      ]
    },
    {
      "cell_type": "code",
      "source": [
        "result = code_completion(\"def add(a, b): return a\", 2)"
      ],
      "metadata": {
        "id": "9_ACi3nLLFV_",
        "outputId": "c6bcd791-1954-4f3c-b633-62c3767ceb82",
        "colab": {
          "base_uri": "https://localhost:8080/"
        }
      },
      "execution_count": 10,
      "outputs": [
        {
          "output_type": "stream",
          "name": "stderr",
          "text": [
            "Device set to use cuda:0\n"
          ]
        },
        {
          "output_type": "stream",
          "name": "stdout",
          "text": [
            "The suggested code completions are:\n",
            "+---------------------------+-------------------+-----------+\n",
            "| Completion                | Predicted token   |   Score   |\n",
            "+===========================+===================+===========+\n",
            "| def add(a, b): return a + | \" +\"              | 0.474445  |\n",
            "+---------------------------+-------------------+-----------+\n",
            "| def add(a, b): return a   | \"                 | 0.199802  |\n",
            "|                           | \"                 |           |\n",
            "+---------------------------+-------------------+-----------+\n",
            "| def add(a, b): return a.  | \".\"               | 0.0671383 |\n",
            "+---------------------------+-------------------+-----------+\n",
            "| def add(a, b): return a - | \" -\"              | 0.0419844 |\n",
            "+---------------------------+-------------------+-----------+\n",
            "| def add(a, b): return a b | \" b\"              | 0.0390898 |\n",
            "+---------------------------+-------------------+-----------+\n",
            "The suggested code completions are:\n",
            "+-----------------------------+-------------------+-------------+\n",
            "| Completion                  | Predicted token   |    Score    |\n",
            "+=============================+===================+=============+\n",
            "| def add(a, b): return a + b | \" b\"              |  0.999259   |\n",
            "+-----------------------------+-------------------+-------------+\n",
            "| def add(a, b): return a + a | \" a\"              | 0.000236002 |\n",
            "+-----------------------------+-------------------+-------------+\n",
            "| def add(a, b): return a + 1 | \" 1\"              | 0.00014434  |\n",
            "+-----------------------------+-------------------+-------------+\n",
            "| def add(a, b): return a + 2 | \" 2\"              | 9.7269e-05  |\n",
            "+-----------------------------+-------------------+-------------+\n",
            "| def add(a, b): return a + c | \" c\"              | 6.3181e-05  |\n",
            "+-----------------------------+-------------------+-------------+\n"
          ]
        }
      ]
    },
    {
      "cell_type": "code",
      "source": [
        "result = code_completion(\"for element \", 2)"
      ],
      "metadata": {
        "id": "AtKbNQi9LGqX",
        "outputId": "744bc410-93b1-4c65-953a-b385bcae5cb8",
        "colab": {
          "base_uri": "https://localhost:8080/"
        }
      },
      "execution_count": 11,
      "outputs": [
        {
          "output_type": "stream",
          "name": "stderr",
          "text": [
            "Device set to use cuda:0\n"
          ]
        },
        {
          "output_type": "stream",
          "name": "stdout",
          "text": [
            "The suggested code completions are:\n",
            "+----------------+-------------------+-----------+\n",
            "| Completion     | Predicted token   |   Score   |\n",
            "+================+===================+===========+\n",
            "| for element in | \" in\"             | 0.562456  |\n",
            "+----------------+-------------------+-----------+\n",
            "| for element_   | \"_\"               | 0.0477217 |\n",
            "+----------------+-------------------+-----------+\n",
            "| for element.   | \".\"               | 0.0199859 |\n",
            "+----------------+-------------------+-----------+\n",
            "| for element=   | \"=\"               | 0.0140407 |\n",
            "+----------------+-------------------+-----------+\n",
            "| for element:   | \":\"               | 0.0138457 |\n",
            "+----------------+-------------------+-----------+\n",
            "The suggested code completions are:\n",
            "+-------------------------+-------------------+-----------+\n",
            "| Completion              | Predicted token   |   Score   |\n",
            "+=========================+===================+===========+\n",
            "| for element in elements | \" elements\"       | 0.231319  |\n",
            "+-------------------------+-------------------+-----------+\n",
            "| for element in list     | \" list\"           | 0.140042  |\n",
            "+-------------------------+-------------------+-----------+\n",
            "| for element in self     | \" self\"           | 0.0430402 |\n",
            "+-------------------------+-------------------+-----------+\n",
            "| for element in nodes    | \" nodes\"          | 0.0363528 |\n",
            "+-------------------------+-------------------+-----------+\n",
            "| for element in children | \" children\"       | 0.0260468 |\n",
            "+-------------------------+-------------------+-----------+\n"
          ]
        }
      ]
    },
    {
      "cell_type": "code",
      "source": [],
      "metadata": {
        "id": "Rya8qTnsj9eZ"
      },
      "execution_count": null,
      "outputs": []
    }
  ]
}