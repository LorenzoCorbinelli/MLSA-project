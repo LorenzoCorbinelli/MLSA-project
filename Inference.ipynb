{
  "nbformat": 4,
  "nbformat_minor": 0,
  "metadata": {
    "colab": {
      "provenance": [],
      "gpuType": "T4",
      "include_colab_link": true
    },
    "kernelspec": {
      "name": "python3",
      "display_name": "Python 3"
    },
    "language_info": {
      "name": "python"
    },
    "accelerator": "GPU"
  },
  "cells": [
    {
      "cell_type": "markdown",
      "metadata": {
        "id": "view-in-github",
        "colab_type": "text"
      },
      "source": [
        "<a href=\"https://colab.research.google.com/github/LorenzoCorbinelli/MLSA-project/blob/main/Inference.ipynb\" target=\"_parent\"><img src=\"https://colab.research.google.com/assets/colab-badge.svg\" alt=\"Open In Colab\"/></a>"
      ]
    },
    {
      "cell_type": "code",
      "source": [
        "!pip install transformers gdown"
      ],
      "metadata": {
        "id": "q4ZhivQa5ZEn",
        "outputId": "f2d07897-7895-4c8c-efaa-b4d34866b0f9",
        "colab": {
          "base_uri": "https://localhost:8080/"
        }
      },
      "execution_count": 1,
      "outputs": [
        {
          "output_type": "stream",
          "name": "stdout",
          "text": [
            "Requirement already satisfied: transformers in /usr/local/lib/python3.11/dist-packages (4.48.2)\n",
            "Requirement already satisfied: gdown in /usr/local/lib/python3.11/dist-packages (5.2.0)\n",
            "Requirement already satisfied: filelock in /usr/local/lib/python3.11/dist-packages (from transformers) (3.17.0)\n",
            "Requirement already satisfied: huggingface-hub<1.0,>=0.24.0 in /usr/local/lib/python3.11/dist-packages (from transformers) (0.28.1)\n",
            "Requirement already satisfied: numpy>=1.17 in /usr/local/lib/python3.11/dist-packages (from transformers) (1.26.4)\n",
            "Requirement already satisfied: packaging>=20.0 in /usr/local/lib/python3.11/dist-packages (from transformers) (24.2)\n",
            "Requirement already satisfied: pyyaml>=5.1 in /usr/local/lib/python3.11/dist-packages (from transformers) (6.0.2)\n",
            "Requirement already satisfied: regex!=2019.12.17 in /usr/local/lib/python3.11/dist-packages (from transformers) (2024.11.6)\n",
            "Requirement already satisfied: requests in /usr/local/lib/python3.11/dist-packages (from transformers) (2.32.3)\n",
            "Requirement already satisfied: tokenizers<0.22,>=0.21 in /usr/local/lib/python3.11/dist-packages (from transformers) (0.21.0)\n",
            "Requirement already satisfied: safetensors>=0.4.1 in /usr/local/lib/python3.11/dist-packages (from transformers) (0.5.2)\n",
            "Requirement already satisfied: tqdm>=4.27 in /usr/local/lib/python3.11/dist-packages (from transformers) (4.67.1)\n",
            "Requirement already satisfied: beautifulsoup4 in /usr/local/lib/python3.11/dist-packages (from gdown) (4.13.3)\n",
            "Requirement already satisfied: fsspec>=2023.5.0 in /usr/local/lib/python3.11/dist-packages (from huggingface-hub<1.0,>=0.24.0->transformers) (2024.10.0)\n",
            "Requirement already satisfied: typing-extensions>=3.7.4.3 in /usr/local/lib/python3.11/dist-packages (from huggingface-hub<1.0,>=0.24.0->transformers) (4.12.2)\n",
            "Requirement already satisfied: soupsieve>1.2 in /usr/local/lib/python3.11/dist-packages (from beautifulsoup4->gdown) (2.6)\n",
            "Requirement already satisfied: charset-normalizer<4,>=2 in /usr/local/lib/python3.11/dist-packages (from requests->transformers) (3.4.1)\n",
            "Requirement already satisfied: idna<4,>=2.5 in /usr/local/lib/python3.11/dist-packages (from requests->transformers) (3.10)\n",
            "Requirement already satisfied: urllib3<3,>=1.21.1 in /usr/local/lib/python3.11/dist-packages (from requests->transformers) (2.3.0)\n",
            "Requirement already satisfied: certifi>=2017.4.17 in /usr/local/lib/python3.11/dist-packages (from requests->transformers) (2025.1.31)\n",
            "Requirement already satisfied: PySocks!=1.5.7,>=1.5.6 in /usr/local/lib/python3.11/dist-packages (from requests[socks]->gdown) (1.7.1)\n"
          ]
        }
      ]
    },
    {
      "cell_type": "code",
      "source": [
        "from transformers import RobertaTokenizer, RobertaForMaskedLM, pipeline\n",
        "from tabulate import tabulate"
      ],
      "metadata": {
        "id": "1sfYqVN95MDm"
      },
      "execution_count": 2,
      "outputs": []
    },
    {
      "cell_type": "code",
      "source": [
        "# Import the model\n",
        "!gdown --folder \"https://drive.google.com/drive/folders/1-14DZR-ds0AZgeQqKtzTf5hNyGkNHj-1\""
      ],
      "metadata": {
        "id": "fNFQY96r9TEe",
        "outputId": "f181541b-44bc-4b32-fcbb-f2bbd4fc2948",
        "colab": {
          "base_uri": "https://localhost:8080/"
        }
      },
      "execution_count": 3,
      "outputs": [
        {
          "output_type": "stream",
          "name": "stdout",
          "text": [
            "Retrieving folder contents\n",
            "Processing file 1-3Gi1RfLXRr23mDMeHQD-zn-KIWhBSUc config.json\n",
            "Processing file 1-8ySYaaguBwz9PKym5KRprAuSxETG4fC merges.txt\n",
            "Processing file 1-5aTG7SM33yj8blDKpEFKA3Xw1ki-N0i model.safetensors\n",
            "Processing file 1-JyQTIxMkpEomU39cGXA6Zubj-p8mdZs special_tokens_map.json\n",
            "Processing file 1-MV-LuW38tPsqWorIAPTGsTTo_RdGx8O tokenizer_config.json\n",
            "Processing file 1-EyCic4FIFKUhS_Glk_nvpMDexILo15i vocab.json\n",
            "Retrieving folder contents completed\n",
            "Building directory structure\n",
            "Building directory structure completed\n",
            "Downloading...\n",
            "From: https://drive.google.com/uc?id=1-3Gi1RfLXRr23mDMeHQD-zn-KIWhBSUc\n",
            "To: /content/Model/config.json\n",
            "100% 710/710 [00:00<00:00, 4.34MB/s]\n",
            "Downloading...\n",
            "From: https://drive.google.com/uc?id=1-8ySYaaguBwz9PKym5KRprAuSxETG4fC\n",
            "To: /content/Model/merges.txt\n",
            "100% 456k/456k [00:00<00:00, 115MB/s]\n",
            "Downloading...\n",
            "From (original): https://drive.google.com/uc?id=1-5aTG7SM33yj8blDKpEFKA3Xw1ki-N0i\n",
            "From (redirected): https://drive.google.com/uc?id=1-5aTG7SM33yj8blDKpEFKA3Xw1ki-N0i&confirm=t&uuid=7cd97ab2-6423-465a-9f6d-a80154047018\n",
            "To: /content/Model/model.safetensors\n",
            "100% 499M/499M [00:05<00:00, 86.2MB/s]\n",
            "Downloading...\n",
            "From: https://drive.google.com/uc?id=1-JyQTIxMkpEomU39cGXA6Zubj-p8mdZs\n",
            "To: /content/Model/special_tokens_map.json\n",
            "100% 958/958 [00:00<00:00, 6.32MB/s]\n",
            "Downloading...\n",
            "From: https://drive.google.com/uc?id=1-MV-LuW38tPsqWorIAPTGsTTo_RdGx8O\n",
            "To: /content/Model/tokenizer_config.json\n",
            "100% 1.22k/1.22k [00:00<00:00, 8.10MB/s]\n",
            "Downloading...\n",
            "From: https://drive.google.com/uc?id=1-EyCic4FIFKUhS_Glk_nvpMDexILo15i\n",
            "To: /content/Model/vocab.json\n",
            "100% 999k/999k [00:00<00:00, 168MB/s]\n",
            "Download completed\n"
          ]
        }
      ]
    },
    {
      "cell_type": "code",
      "execution_count": 4,
      "metadata": {
        "id": "Q1pevukuK0XD"
      },
      "outputs": [],
      "source": [
        "# load the model\n",
        "directory = '/content/Model'\n",
        "\n",
        "model = RobertaForMaskedLM.from_pretrained(directory)\n",
        "tokenizer = RobertaTokenizer.from_pretrained(directory)"
      ]
    },
    {
      "cell_type": "code",
      "source": [
        "def print_result(outputs):\n",
        "    table_data = []\n",
        "    for output in outputs:\n",
        "        token_str = f'\"{output[\"token_str\"]}\"'  # Preserve leading spaces by wrapping in quotes\n",
        "        table_data.append([output['sequence'], token_str, output['score']])\n",
        "\n",
        "    print(\"The suggested code completions are:\")\n",
        "    print(tabulate(table_data, headers=[\"Completion\", \"Predicted token\", \"Score\"], tablefmt=\"grid\", colalign=(\"left\", \"left\", \"center\")) )"
      ],
      "metadata": {
        "id": "95UdnsUtXIUH"
      },
      "execution_count": 5,
      "outputs": []
    },
    {
      "cell_type": "code",
      "source": [
        "def code_completion(code_example, iterations: int = 1):\n",
        "    '''\n",
        "    - code_example: snipped of code that need to be code-completed. No token <mask> needed.\n",
        "    - iterations: number of subsequent code completions to be generated.\n",
        "                  Each sequence generated after the first one will be based only on the previous sequence with the highest score.\n",
        "    '''\n",
        "    code_example = code_example + \"<mask>\"\n",
        "    fill_mask = pipeline('fill-mask', model=model, tokenizer=tokenizer)\n",
        "    current_example = code_example  # Start with the initial code\n",
        "\n",
        "    for _ in range(iterations):\n",
        "        outputs = fill_mask(current_example)\n",
        "\n",
        "        # Take the first prediction and append <mask> to continue completion\n",
        "        best_prediction = outputs[0][\"sequence\"]\n",
        "        current_example = best_prediction + \" <mask>\"\n",
        "        print_result(outputs)\n",
        "    return outputs"
      ],
      "metadata": {
        "id": "SyVs7pkpA2MU"
      },
      "execution_count": 6,
      "outputs": []
    },
    {
      "cell_type": "code",
      "source": [
        "result = code_completion(\"def is_zero(x): return x==\")"
      ],
      "metadata": {
        "id": "COv2CyqdK_HH",
        "outputId": "1df51112-c9e2-4dc7-d93f-6c6b929527c5",
        "colab": {
          "base_uri": "https://localhost:8080/"
        }
      },
      "execution_count": 7,
      "outputs": [
        {
          "output_type": "stream",
          "name": "stderr",
          "text": [
            "Device set to use cuda:0\n"
          ]
        },
        {
          "output_type": "stream",
          "name": "stdout",
          "text": [
            "The suggested code completions are:\n",
            "+--------------------------------+-------------------+------------+\n",
            "| Completion                     | Predicted token   |   Score    |\n",
            "+================================+===================+============+\n",
            "| def is_zero(x): return x==0    | \"0\"               |  0.725383  |\n",
            "+--------------------------------+-------------------+------------+\n",
            "| def is_zero(x): return x== 0   | \" 0\"              |  0.178053  |\n",
            "+--------------------------------+-------------------+------------+\n",
            "| def is_zero(x): return x==x    | \"x\"               | 0.0419061  |\n",
            "+--------------------------------+-------------------+------------+\n",
            "| def is_zero(x): return x==zero | \"zero\"            |  0.011265  |\n",
            "+--------------------------------+-------------------+------------+\n",
            "| def is_zero(x): return x==1    | \"1\"               | 0.00624731 |\n",
            "+--------------------------------+-------------------+------------+\n"
          ]
        }
      ]
    },
    {
      "cell_type": "code",
      "source": [
        "result = code_completion(\"def add(a, b): return a+\")"
      ],
      "metadata": {
        "id": "yj-FGV8cLD2K",
        "outputId": "2951e0d5-0747-4508-bf95-1fecb656b4d2",
        "colab": {
          "base_uri": "https://localhost:8080/"
        }
      },
      "execution_count": 8,
      "outputs": [
        {
          "output_type": "stream",
          "name": "stderr",
          "text": [
            "Device set to use cuda:0\n"
          ]
        },
        {
          "output_type": "stream",
          "name": "stdout",
          "text": [
            "The suggested code completions are:\n",
            "+----------------------------+-------------------+------------+\n",
            "| Completion                 | Predicted token   |   Score    |\n",
            "+============================+===================+============+\n",
            "| def add(a, b): return a+b  | \"b\"               |   0.9766   |\n",
            "+----------------------------+-------------------+------------+\n",
            "| def add(a, b): return a+a  | \"a\"               | 0.00803229 |\n",
            "+----------------------------+-------------------+------------+\n",
            "| def add(a, b): return a+ b | \" b\"              | 0.00514298 |\n",
            "+----------------------------+-------------------+------------+\n",
            "| def add(a, b): return a+1  | \"1\"               | 0.00164974 |\n",
            "+----------------------------+-------------------+------------+\n",
            "| def add(a, b): return a+2  | \"2\"               | 0.00139649 |\n",
            "+----------------------------+-------------------+------------+\n"
          ]
        }
      ]
    },
    {
      "cell_type": "code",
      "source": [
        "result = code_completion(\"def add(a, b): return a\", 2)"
      ],
      "metadata": {
        "id": "9_ACi3nLLFV_",
        "outputId": "7c1879b6-47c3-4f4d-bbad-051dfe8516a6",
        "colab": {
          "base_uri": "https://localhost:8080/"
        }
      },
      "execution_count": 9,
      "outputs": [
        {
          "output_type": "stream",
          "name": "stderr",
          "text": [
            "Device set to use cuda:0\n"
          ]
        },
        {
          "output_type": "stream",
          "name": "stdout",
          "text": [
            "The suggested code completions are:\n",
            "+---------------------------+-------------------+-----------+\n",
            "| Completion                | Predicted token   |   Score   |\n",
            "+===========================+===================+===========+\n",
            "| def add(a, b): return a + | \" +\"              | 0.788156  |\n",
            "+---------------------------+-------------------+-----------+\n",
            "| def add(a, b): return a - | \" -\"              | 0.0473608 |\n",
            "+---------------------------+-------------------+-----------+\n",
            "| def add(a, b): return a   | \"                 | 0.0304668 |\n",
            "|                           | \"                 |           |\n",
            "+---------------------------+-------------------+-----------+\n",
            "| def add(a, b): return a.  | \".\"               |  0.02006  |\n",
            "+---------------------------+-------------------+-----------+\n",
            "| def add(a, b): return a,  | \",\"               | 0.020017  |\n",
            "+---------------------------+-------------------+-----------+\n",
            "The suggested code completions are:\n",
            "+-----------------------------+-------------------+-------------+\n",
            "| Completion                  | Predicted token   |    Score    |\n",
            "+=============================+===================+=============+\n",
            "| def add(a, b): return a + b | \" b\"              |  0.999481   |\n",
            "+-----------------------------+-------------------+-------------+\n",
            "| def add(a, b): return a + a | \" a\"              | 0.000232319 |\n",
            "+-----------------------------+-------------------+-------------+\n",
            "| def add(a, b): return a + 1 | \" 1\"              | 7.02591e-05 |\n",
            "+-----------------------------+-------------------+-------------+\n",
            "| def add(a, b): return a + 2 | \" 2\"              | 5.61362e-05 |\n",
            "+-----------------------------+-------------------+-------------+\n",
            "| def add(a, b): return a + c | \" c\"              | 4.87337e-05 |\n",
            "+-----------------------------+-------------------+-------------+\n"
          ]
        }
      ]
    },
    {
      "cell_type": "code",
      "source": [
        "result = code_completion(\"for element \", 2)"
      ],
      "metadata": {
        "id": "AtKbNQi9LGqX",
        "outputId": "ec200d64-1cb0-4c7d-bb56-564d9c48ccb7",
        "colab": {
          "base_uri": "https://localhost:8080/"
        }
      },
      "execution_count": 10,
      "outputs": [
        {
          "output_type": "stream",
          "name": "stderr",
          "text": [
            "Device set to use cuda:0\n"
          ]
        },
        {
          "output_type": "stream",
          "name": "stdout",
          "text": [
            "The suggested code completions are:\n",
            "+----------------+-------------------+-----------+\n",
            "| Completion     | Predicted token   |   Score   |\n",
            "+================+===================+===========+\n",
            "| for element in | \" in\"             | 0.442312  |\n",
            "+----------------+-------------------+-----------+\n",
            "| for element_   | \"_\"               | 0.0344412 |\n",
            "+----------------+-------------------+-----------+\n",
            "| for elementIn  | \"In\"              | 0.0282872 |\n",
            "+----------------+-------------------+-----------+\n",
            "| for elementin  | \"in\"              | 0.0220934 |\n",
            "+----------------+-------------------+-----------+\n",
            "| for element()  | \"()\"              | 0.0185084 |\n",
            "+----------------+-------------------+-----------+\n",
            "The suggested code completions are:\n",
            "+-------------------------+-------------------+-----------+\n",
            "| Completion              | Predicted token   |   Score   |\n",
            "+=========================+===================+===========+\n",
            "| for element in elements | \" elements\"       | 0.466459  |\n",
            "+-------------------------+-------------------+-----------+\n",
            "| for element in list     | \" list\"           | 0.0745768 |\n",
            "+-------------------------+-------------------+-----------+\n",
            "| for element in self     | \" self\"           | 0.0364542 |\n",
            "+-------------------------+-------------------+-----------+\n",
            "| for element in element  | \" element\"        | 0.0221702 |\n",
            "+-------------------------+-------------------+-----------+\n",
            "| for element in nodes    | \" nodes\"          | 0.0199016 |\n",
            "+-------------------------+-------------------+-----------+\n"
          ]
        }
      ]
    }
  ]
}